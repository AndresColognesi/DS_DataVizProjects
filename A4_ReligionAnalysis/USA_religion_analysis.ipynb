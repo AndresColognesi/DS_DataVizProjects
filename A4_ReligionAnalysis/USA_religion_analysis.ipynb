{
 "cells": [
  {
   "cell_type": "markdown",
   "metadata": {},
   "source": [
    "# Assignment 4\n",
    "\n",
    "Before working on this assignment please read these instructions fully. In the submission area, you will notice that you can click the link to **Preview the Grading** for each step of the assignment. This is the criteria that will be used for peer grading. Please familiarize yourself with the criteria before beginning the assignment.\n",
    "\n",
    "This assignment requires that you to find **at least** two datasets on the web which are related, and that you visualize these datasets to answer a question with the broad topic of **religious events or traditions** (see below) for the region of **Ann Arbor, Michigan, United States**, or **United States** more broadly.\n",
    "\n",
    "You can merge these datasets with data from different regions if you like! For instance, you might want to compare **Ann Arbor, Michigan, United States** to Ann Arbor, USA. In that case at least one source file must be about **Ann Arbor, Michigan, United States**.\n",
    "\n",
    "You are welcome to choose datasets at your discretion, but keep in mind **they will be shared with your peers**, so choose appropriate datasets. Sensitive, confidential, illicit, and proprietary materials are not good choices for datasets for this assignment. You are welcome to upload datasets of your own as well, and link to them using a third party repository such as github, bitbucket, pastebin, etc. Please be aware of the Coursera terms of service with respect to intellectual property.\n",
    "\n",
    "Also, you are welcome to preserve data in its original language, but for the purposes of grading you should provide english translations. You are welcome to provide multiple visuals in different languages if you would like!\n",
    "\n",
    "As this assignment is for the whole course, you must incorporate principles discussed in the first week, such as having as high data-ink ratio (Tufte) and aligning with Cairo’s principles of truth, beauty, function, and insight.\n",
    "\n",
    "Here are the assignment instructions:\n",
    "\n",
    " * State the region and the domain category that your data sets are about (e.g., **Ann Arbor, Michigan, United States** and **religious events or traditions**).\n",
    " * You must state a question about the domain category and region that you identified as being interesting.\n",
    " * You must provide at least two links to available datasets. These could be links to files such as CSV or Excel files, or links to websites which might have data in tabular form, such as Wikipedia pages.\n",
    " * You must upload an image which addresses the research question you stated. In addition to addressing the question, this visual should follow Cairo's principles of truthfulness, functionality, beauty, and insightfulness.\n",
    " * You must contribute a short (1-2 paragraph) written justification of how your visualization addresses your stated research question.\n",
    "\n",
    "What do we mean by **religious events or traditions**?  For this category you might consider calendar events, demographic data about religion in the region and neighboring regions, participation in religious events, or how religious events relate to political events, social movements, or historical events.\n",
    "\n",
    "## Tips\n",
    "* Wikipedia is an excellent source of data, and I strongly encourage you to explore it for new data sources.\n",
    "* Many governments run open data initiatives at the city, region, and country levels, and these are wonderful resources for localized data sources.\n",
    "* Several international agencies, such as the [United Nations](http://data.un.org/), the [World Bank](http://data.worldbank.org/), the [Global Open Data Index](http://index.okfn.org/place/) are other great places to look for data.\n",
    "* This assignment requires you to convert and clean datafiles. Check out the discussion forums for tips on how to do this from various sources, and share your successes with your fellow students!\n",
    "\n",
    "## Example\n",
    "Looking for an example? Here's what our course assistant put together for the **Ann Arbor, MI, USA** area using **sports and athletics** as the topic. [Example Solution File](./readonly/Assignment4_example.pdf)"
   ]
  },
  {
   "cell_type": "markdown",
   "metadata": {
    "collapsed": true
   },
   "source": [
    "# My Project\n",
    "\n",
    "## Research Question\n",
    "\n",
    "What is the representativeness (%) over time of the 3 most popular religions in the USA, compared to all adherents in the world?\n",
    "\n",
    "## Data Sources\n",
    "\n",
    "- [Global data](https://www.kaggle.com/umichigan/world-religions?select=global.csv)\n",
    "- [National data](https://www.kaggle.com/umichigan/world-religions?select=national.csv)\n",
    "\n"
   ]
  },
  {
   "cell_type": "code",
   "execution_count": 1,
   "metadata": {
    "collapsed": true
   },
   "outputs": [],
   "source": [
    "######################\n",
    "## Import Libraries ##\n",
    "######################\n",
    "\n",
    "import pandas as pd\n",
    "import numpy as np\n",
    "import matplotlib.pyplot as plt\n",
    "\n",
    "# Set notebook to display plots:\n",
    "%matplotlib inline"
   ]
  },
  {
   "cell_type": "code",
   "execution_count": 2,
   "metadata": {
    "collapsed": false
   },
   "outputs": [
    {
     "data": {
      "text/html": [
       "<div>\n",
       "<table border=\"1\" class=\"dataframe\">\n",
       "  <thead>\n",
       "    <tr style=\"text-align: right;\">\n",
       "      <th></th>\n",
       "      <th>christianity_all</th>\n",
       "      <th>noreligion_all</th>\n",
       "      <th>judaism_all</th>\n",
       "    </tr>\n",
       "    <tr>\n",
       "      <th>year</th>\n",
       "      <th></th>\n",
       "      <th></th>\n",
       "      <th></th>\n",
       "    </tr>\n",
       "  </thead>\n",
       "  <tbody>\n",
       "    <tr>\n",
       "      <th>1945</th>\n",
       "      <td>110265118</td>\n",
       "      <td>22874544</td>\n",
       "      <td>4641182</td>\n",
       "    </tr>\n",
       "    <tr>\n",
       "      <th>1950</th>\n",
       "      <td>122994019</td>\n",
       "      <td>22568130</td>\n",
       "      <td>6090837</td>\n",
       "    </tr>\n",
       "    <tr>\n",
       "      <th>1955</th>\n",
       "      <td>134001770</td>\n",
       "      <td>23303540</td>\n",
       "      <td>5333332</td>\n",
       "    </tr>\n",
       "    <tr>\n",
       "      <th>1960</th>\n",
       "      <td>150234347</td>\n",
       "      <td>21548225</td>\n",
       "      <td>5500000</td>\n",
       "    </tr>\n",
       "    <tr>\n",
       "      <th>1965</th>\n",
       "      <td>167515758</td>\n",
       "      <td>19852362</td>\n",
       "      <td>5600000</td>\n",
       "    </tr>\n",
       "  </tbody>\n",
       "</table>\n",
       "</div>"
      ],
      "text/plain": [
       "     christianity_all noreligion_all judaism_all\n",
       "year                                            \n",
       "1945        110265118       22874544     4641182\n",
       "1950        122994019       22568130     6090837\n",
       "1955        134001770       23303540     5333332\n",
       "1960        150234347       21548225     5500000\n",
       "1965        167515758       19852362     5600000"
      ]
     },
     "execution_count": 2,
     "metadata": {},
     "output_type": "execute_result"
    }
   ],
   "source": [
    "#####################################\n",
    "## Data Processing - National data ##\n",
    "#####################################\n",
    "\n",
    "## Loading data:\n",
    "df_national = pd.read_csv(\"national.csv\")\n",
    "\n",
    "\n",
    "## Filtering desired data:\n",
    "\n",
    "# Keeping only USA data:\n",
    "df_national = df_national[df_national[\"code\"]==\"USA\"]\n",
    "\n",
    "# Evaluating top religions:\n",
    "# Transpose to sort:\n",
    "top = df_national.set_index('year').transpose()\n",
    "# Drop non numeric content and total value:\n",
    "top.drop(labels=['code', 'state', 'religion_all'], inplace=True)\n",
    "# Keep only total values, that is, the ones that end with _all:\n",
    "top = top.filter(regex='_all$', axis=0)\n",
    "# Sort to obtain the top 3 religions:\n",
    "top.sort_values([1980], ascending=False, inplace=True) # descending order\n",
    "# NOTE: You can change the year value above to see that the top 3 are always the same\n",
    "# Keeping only top 3 religion data:\n",
    "top = top.head(3)\n",
    "# Transpose to make plotting easier:\n",
    "top = top.transpose()\n",
    "\n",
    "# Just to visualize:\n",
    "top.head()"
   ]
  },
  {
   "cell_type": "code",
   "execution_count": 3,
   "metadata": {
    "collapsed": false
   },
   "outputs": [
    {
     "data": {
      "text/html": [
       "<div>\n",
       "<table border=\"1\" class=\"dataframe\">\n",
       "  <thead>\n",
       "    <tr style=\"text-align: right;\">\n",
       "      <th></th>\n",
       "      <th>christianity_all</th>\n",
       "      <th>noreligion_all</th>\n",
       "      <th>judaism_all</th>\n",
       "    </tr>\n",
       "    <tr>\n",
       "      <th>year</th>\n",
       "      <th></th>\n",
       "      <th></th>\n",
       "      <th></th>\n",
       "    </tr>\n",
       "  </thead>\n",
       "  <tbody>\n",
       "    <tr>\n",
       "      <th>1945</th>\n",
       "      <td>701350290</td>\n",
       "      <td>153486530</td>\n",
       "      <td>12009400</td>\n",
       "    </tr>\n",
       "    <tr>\n",
       "      <th>1950</th>\n",
       "      <td>696480122</td>\n",
       "      <td>192925316</td>\n",
       "      <td>13698294</td>\n",
       "    </tr>\n",
       "    <tr>\n",
       "      <th>1955</th>\n",
       "      <td>836002102</td>\n",
       "      <td>304128449</td>\n",
       "      <td>12986204</td>\n",
       "    </tr>\n",
       "    <tr>\n",
       "      <th>1960</th>\n",
       "      <td>966967595</td>\n",
       "      <td>434629671</td>\n",
       "      <td>13728856</td>\n",
       "    </tr>\n",
       "    <tr>\n",
       "      <th>1965</th>\n",
       "      <td>1074713786</td>\n",
       "      <td>474097850</td>\n",
       "      <td>14253679</td>\n",
       "    </tr>\n",
       "  </tbody>\n",
       "</table>\n",
       "</div>"
      ],
      "text/plain": [
       "      christianity_all  noreligion_all  judaism_all\n",
       "year                                               \n",
       "1945         701350290       153486530     12009400\n",
       "1950         696480122       192925316     13698294\n",
       "1955         836002102       304128449     12986204\n",
       "1960         966967595       434629671     13728856\n",
       "1965        1074713786       474097850     14253679"
      ]
     },
     "execution_count": 3,
     "metadata": {},
     "output_type": "execute_result"
    }
   ],
   "source": [
    "###################################\n",
    "## Data Processing - Global data ##\n",
    "###################################\n",
    "\n",
    "## Loading data:\n",
    "df_global = pd.read_csv(\"global.csv\")\n",
    "\n",
    "\n",
    "## Filtering desired data:\n",
    "\n",
    "# Set year to index and keep only the top 3 USA religions:\n",
    "df_global.set_index('year', inplace=True)\n",
    "df_global = df_global[top.columns]\n",
    "\n",
    "# Just for visualization:\n",
    "df_global.head()"
   ]
  },
  {
   "cell_type": "code",
   "execution_count": 4,
   "metadata": {
    "collapsed": false
   },
   "outputs": [
    {
     "data": {
      "text/html": [
       "<div>\n",
       "<table border=\"1\" class=\"dataframe\">\n",
       "  <thead>\n",
       "    <tr style=\"text-align: right;\">\n",
       "      <th></th>\n",
       "      <th>christianity_all</th>\n",
       "      <th>noreligion_all</th>\n",
       "      <th>judaism_all</th>\n",
       "    </tr>\n",
       "    <tr>\n",
       "      <th>year</th>\n",
       "      <th></th>\n",
       "      <th></th>\n",
       "      <th></th>\n",
       "    </tr>\n",
       "  </thead>\n",
       "  <tbody>\n",
       "    <tr>\n",
       "      <th>1945</th>\n",
       "      <td>15.7218</td>\n",
       "      <td>14.9033</td>\n",
       "      <td>38.6462</td>\n",
       "    </tr>\n",
       "    <tr>\n",
       "      <th>1950</th>\n",
       "      <td>17.6594</td>\n",
       "      <td>11.6979</td>\n",
       "      <td>44.4642</td>\n",
       "    </tr>\n",
       "    <tr>\n",
       "      <th>1955</th>\n",
       "      <td>16.0289</td>\n",
       "      <td>7.6624</td>\n",
       "      <td>41.0692</td>\n",
       "    </tr>\n",
       "    <tr>\n",
       "      <th>1960</th>\n",
       "      <td>15.5366</td>\n",
       "      <td>4.95784</td>\n",
       "      <td>40.0616</td>\n",
       "    </tr>\n",
       "    <tr>\n",
       "      <th>1965</th>\n",
       "      <td>15.587</td>\n",
       "      <td>4.1874</td>\n",
       "      <td>39.2881</td>\n",
       "    </tr>\n",
       "  </tbody>\n",
       "</table>\n",
       "</div>"
      ],
      "text/plain": [
       "     christianity_all noreligion_all judaism_all\n",
       "year                                            \n",
       "1945          15.7218        14.9033     38.6462\n",
       "1950          17.6594        11.6979     44.4642\n",
       "1955          16.0289         7.6624     41.0692\n",
       "1960          15.5366        4.95784     40.0616\n",
       "1965           15.587         4.1874     39.2881"
      ]
     },
     "execution_count": 4,
     "metadata": {},
     "output_type": "execute_result"
    }
   ],
   "source": [
    "#######################\n",
    "## Data for Plotting ##\n",
    "#######################\n",
    "\n",
    "# Calculate ratio of US compared to world:\n",
    "df_ratio = top/df_global\n",
    "# Format as percentage for better view:\n",
    "df_ratio *= 100\n",
    "\n",
    "# Just to visualize:\n",
    "df_ratio.head()"
   ]
  },
  {
   "cell_type": "code",
   "execution_count": 5,
   "metadata": {
    "collapsed": false
   },
   "outputs": [
    {
     "data": {
      "image/png": "[encoded data removed]",
      "text/plain": [
       "<matplotlib.figure.Figure at 0x7f8330c75898>"
      ]
     },
     "metadata": {},
     "output_type": "display_data"
    }
   ],
   "source": [
    "## Plot to fast data visualization:\n",
    "\n",
    "df_ratio.plot();"
   ]
  },
  {
   "cell_type": "markdown",
   "metadata": {},
   "source": [
    "## Making a Good Visualization\n",
    "\n",
    "Based on this preliminary visualization, it is easier and faster to ajust the data for a better final representation manually. This is done in the cell below."
   ]
  },
  {
   "cell_type": "code",
   "execution_count": 9,
   "metadata": {
    "collapsed": false
   },
   "outputs": [
    {
     "data": {
      "image/png": "[encoded data removed]",
      "text/plain": [
       "<matplotlib.figure.Figure at 0x7f82f3f1c390>"
      ]
     },
     "metadata": {},
     "output_type": "display_data"
    }
   ],
   "source": [
    "##############################\n",
    "## Plot Final Visualization ##\n",
    "##############################\n",
    "\n",
    "# Rename columns:\n",
    "df_ratio.rename(columns={'judaism_all': 'Judaism', 'christianity_all': 'Christianity', 'noreligion_all': 'Non Religion'}, inplace=True)\n",
    "# Rearange columns:\n",
    "df_ratio = df_ratio[['Judaism', 'Christianity', 'Non Religion']]\n",
    "\n",
    "# Create figure:\n",
    "plt.figure(figsize=(7, 4))\n",
    "# Set y limits:\n",
    "plt.gca().set_ylim([0,100])\n",
    "\n",
    "# Define colors in the desired order:\n",
    "# See this link for some nice color combinations: https://coolors.co/palettes/trending\n",
    "colors = ['#2A9D8F', '#E76F51', '#E9C46A']\n",
    "\n",
    "# Loop over religions to make plots:\n",
    "for i in range(len(colors)):\n",
    "    # Plot line:\n",
    "    plt.plot(df_ratio.index.values, df_ratio[df_ratio.columns[i]], '-o', label=df_ratio.columns[i], color=colors[i])\n",
    "    # Empiric coeficient for text placement:\n",
    "    if i == 0: #judaism\n",
    "        coef_min = -7\n",
    "        coef_max = 4\n",
    "    elif i == 1: #christianity\n",
    "        coef_min = 4\n",
    "        coef_max = 4\n",
    "    else: #non religious\n",
    "        coef_min = 3\n",
    "        coef_max = -6\n",
    "    # Add text on minimum value:\n",
    "    plt.gca().text(df_ratio[df_ratio.columns[i]].idxmin(), df_ratio[df_ratio.columns[i]].min()+coef_min,\n",
    "                   \"{:.2f}\".format(df_ratio[df_ratio.columns[i]].min()), ha='center', color=colors[i], fontsize=10)\n",
    "    # Add text on maximum value:\n",
    "    plt.gca().text(df_ratio[df_ratio.columns[i]].idxmax(), df_ratio[df_ratio.columns[i]].max()+coef_max,\n",
    "                   \"{:.2f}\".format(df_ratio[df_ratio.columns[i]].max()), ha='center', color=colors[i], fontsize=10)\n",
    "\n",
    "# Title:\n",
    "plt.title(\"Representativeness (%) over time of the 3 most popular religions\\n\"\\\n",
    "          \"in the USA compared to all adherents in the world\")\n",
    "# Legend:\n",
    "plt.legend()\n",
    "\n",
    "# Dejunking - Removing spines:\n",
    "plt.gca().spines['top'].set_visible(False)\n",
    "plt.gca().spines['right'].set_visible(False)\n",
    "\n",
    "# Save plot:\n",
    "plt.savefig('USA_religion_representativeness.png', bbox_inches='tight') #save removing white space padding\n",
    "# Show plot:\n",
    "plt.show()"
   ]
  },
  {
   "cell_type": "code",
   "execution_count": null,
   "metadata": {
    "collapsed": true
   },
   "outputs": [],
   "source": []
  }
 ],
 "metadata": {
  "kernelspec": {
   "display_name": "Python 3",
   "language": "python",
   "name": "python3"
  },
  "language_info": {
   "codemirror_mode": {
    "name": "ipython",
    "version": 3
   },
   "file_extension": ".py",
   "mimetype": "text/x-python",
   "name": "python",
   "nbconvert_exporter": "python",
   "pygments_lexer": "ipython3",
   "version": "3.6.2"
  }
 },
 "nbformat": 4,
 "nbformat_minor": 1
}
